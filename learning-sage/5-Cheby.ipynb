{
 "cells": [
  {
   "cell_type": "code",
   "execution_count": null,
   "id": "50821794",
   "metadata": {},
   "outputs": [],
   "source": [
    "T_cache = {}\n",
    "def Cheb_T(n, v):\n",
    "    if (n, v) not in T_cache:\n",
    "        if n == 0:\n",
    "            T_cache[n, v] = 1\n",
    "        elif n == 1:\n",
    "            T_cache[n, v] = v\n",
    "        else:\n",
    "            assert n > 1\n",
    "            T_cache[n, v] = expand(2*v*Cheb_T(n-1, v) - Cheb_T(n-2, v))\n",
    "    return T_cache[n, v]\n",
    "\n",
    "print(Cheb_T(12, x))\n",
    "\n",
    "\n",
    "print(integral(Cheb_T(3, x) * Cheb_T(5, x) / sqrt(1-x^2), x, -1, 1))"
   ]
  }
 ],
 "metadata": {
  "kernelspec": {
   "display_name": "SageMath 9.5",
   "language": "sage",
   "name": "sagemath"
  },
  "language_info": {
   "codemirror_mode": {
    "name": "ipython",
    "version": 3
   },
   "file_extension": ".py",
   "mimetype": "text/x-python",
   "name": "python",
   "nbconvert_exporter": "python",
   "pygments_lexer": "ipython3",
   "version": "3.10.12"
  }
 },
 "nbformat": 4,
 "nbformat_minor": 5
}
