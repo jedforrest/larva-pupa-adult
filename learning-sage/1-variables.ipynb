{
 "cells": [
  {
   "cell_type": "code",
   "execution_count": null,
   "id": "f90d5a30",
   "metadata": {},
   "outputs": [],
   "source": [
    "# at startup 'x' is defined as a variable but 'y' is not\n",
    "print(x*x)\n",
    "\n",
    "# since 'y' is not defined, this will create a NameError\n",
    "print(y*y)"
   ]
  },
  {
   "cell_type": "code",
   "execution_count": null,
   "id": "c24a3557",
   "metadata": {},
   "outputs": [],
   "source": [
    "# delete start up variables x\n",
    "clear_vars()"
   ]
  },
  {
   "cell_type": "code",
   "execution_count": null,
   "id": "e2d8a234",
   "metadata": {},
   "outputs": [],
   "source": [
    "# define some new variables\n",
    "a, b, c = var('a b c')\n",
    "\n",
    "# variables may have multiple chars in their name\n",
    "x_i, x_j = var('k_i x_j')\n",
    "\n",
    "# in python ^ is bitwise XOR, in sage it is exponent\n",
    "print((a + a*b-c*k_i)^17)\n",
    "\n",
    "# expand expression\n",
    "print(expand((a + a*b-c*k_i)^17))\n"
   ]
  },
  {
   "cell_type": "code",
   "execution_count": null,
   "id": "d3c1175f",
   "metadata": {},
   "outputs": [],
   "source": [
    "# define a vector of variables\n",
    "A = []\n",
    "for i in range(10):\n",
    "    a_str = \"a_%d\" % i\n",
    "    A.append(var(a_str))\n",
    "print(A)"
   ]
  }
 ],
 "metadata": {
  "kernelspec": {
   "display_name": "SageMath 9.5",
   "language": "sage",
   "name": "sagemath"
  },
  "language_info": {
   "codemirror_mode": {
    "name": "ipython",
    "version": 3
   },
   "file_extension": ".py",
   "mimetype": "text/x-python",
   "name": "python",
   "nbconvert_exporter": "python",
   "pygments_lexer": "ipython3",
   "version": "3.10.12"
  }
 },
 "nbformat": 4,
 "nbformat_minor": 5
}
