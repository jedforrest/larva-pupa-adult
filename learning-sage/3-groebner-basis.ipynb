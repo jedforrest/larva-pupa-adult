{
 "cells": [
  {
   "cell_type": "code",
   "execution_count": 1,
   "id": "64f315bb",
   "metadata": {},
   "outputs": [
    {
     "name": "stdout",
     "output_type": "stream",
     "text": [
      "Gröbner Basis: [y^3 + x*z - y, x^2 + y^2 - 1, x*y - z, z^2 + x + y + z]\n"
     ]
    }
   ],
   "source": [
    "# See https://doc.sagemath.org/html/en/reference/polynomial_rings/sage/rings/polynomial/multi_polynomial_ideal.html\n",
    "\n",
    "# Define a list of polynomials\n",
    "R.<x, y, z> = PolynomialRing(QQ, order='degrevlex')  # Define a polynomial ring with rational coefficients\n",
    "\n",
    "polynomials = [x^2 + y^2 - 1, x*y - z, x+y+z+x*y*z]\n",
    "\n",
    "# make an ideal with the list of polynomials\n",
    "I = ideal(*polynomials)\n",
    "\n",
    "# Compute the Gröbner basis\n",
    "groebner_basis_result = I.groebner_basis()\n",
    "\n",
    "# Display the result\n",
    "print(\"Gröbner Basis:\", groebner_basis_result)\n"
   ]
  },
  {
   "cell_type": "code",
   "execution_count": 7,
   "id": "9d765636",
   "metadata": {},
   "outputs": [
    {
     "name": "stdout",
     "output_type": "stream",
     "text": [
      "[y^13*z^3*a - y^12*z^3 - x^9*y^3*a - 3*x^9*y^2*z*a - 3*x^9*y*z^2*a - x^9*z^3*a - 3*x^9*y^2*a*w - 6*x^9*y*z*a*w - 3*x^9*z^2*a*w - 3*x^9*y*a*w^2 - 3*x^9*z*a*w^2 - x^9*a*w^3 + 3*y^9*z^2*a - 3*y^8*z^2 + 3*y^5*z*a - 3*y^4*z + y*a - 1, x^11*z^5*a + 4*x^11*z^4*a*w + 6*x^11*z^3*a*w^2 + 4*x^11*z^2*a*w^3 + x^11*z*a*w^4 + x^11*a + x^10*y*a + x^10*z*a + x^10*a*w + y^8*z^2*a - y^7*z^3*a + y^6*z^4*a - y^5*z^5*a - y^7*z^2*a*w + 2*y^6*z^3*a*w - 3*y^5*z^4*a*w + y^6*z^2*a*w^2 - 3*y^5*z^3*a*w^2 - y^5*z^2*a*w^3 - y^7*z^2 + y^6*z^3 - y^5*z^4 + y^4*z^5 + y^6*z^2*w - 2*y^5*z^3*w + 3*y^4*z^4*w - y^5*z^2*w^2 + 3*y^4*z^3*w^2 + y^4*z^2*w^3 + y^4*z*a - y^3*z^2*a + y^2*z^3*a - y*z^4*a - y^3*z*a*w + 2*y^2*z^2*a*w - 3*y*z^3*a*w + y^2*z*a*w^2 - 3*y*z^2*a*w^2 - y*z*a*w^3 - y^3*z + y^2*z^2 - y*z^3 + z^4 + y^2*z*w - 2*y*z^2*w + 3*z^3*w - y*z*w^2 + 3*z^2*w^2 + z*w^3, x^10*z^6*a + 5*x^10*z^5*a*w + 10*x^10*z^4*a*w^2 + 10*x^10*z^3*a*w^3 + 5*x^10*z^2*a*w^4 + x^10*z*a*w^5 - 4*y^12*z^3*a + 3*y^11*z^4*a - 2*y^10*z^5*a + y^9*z^6*a + 3*y^11*z^3*a*w - 4*y^10*z^4*a*w + 3*y^9*z^5*a*w - 2*y^10*z^3*a*w^2 + 3*y^9*z^4*a*w^2 + y^9*z^3*a*w^3 + 4*y^11*z^3 - 3*y^10*z^4 + 2*y^9*z^5 - y^8*z^6 - 3*y^10*z^3*w + 4*y^9*z^4*w - 3*y^8*z^5*w + 2*y^9*z^3*w^2 - 3*y^8*z^4*w^2 - y^8*z^3*w^3 + 4*x^10*y*a + 4*x^9*y^2*a + 5*x^10*z*a + 9*x^9*y*z*a + 5*x^9*z^2*a + 5*x^10*a*w + 9*x^9*y*a*w + 10*x^9*z*a*w + 5*x^9*a*w^2 - 8*y^8*z^2*a + 6*y^7*z^3*a - 4*y^6*z^4*a + 2*y^5*z^5*a + 6*y^7*z^2*a*w - 8*y^6*z^3*a*w + 6*y^5*z^4*a*w - 4*y^6*z^2*a*w^2 + 6*y^5*z^3*a*w^2 + 2*y^5*z^2*a*w^3 + 8*y^7*z^2 - 6*y^6*z^3 + 4*y^5*z^4 - 2*y^4*z^5 - 6*y^6*z^2*w + 8*y^5*z^3*w - 6*y^4*z^4*w + 4*y^5*z^2*w^2 - 6*y^4*z^3*w^2 - 2*y^4*z^2*w^3 - 4*y^4*z*a + 3*y^3*z^2*a - 2*y^2*z^3*a + y*z^4*a + 3*y^3*z*a*w - 4*y^2*z^2*a*w + 3*y*z^3*a*w - 2*y^2*z*a*w^2 + 3*y*z^2*a*w^2 + y*z*a*w^3 + 4*y^3*z - 3*y^2*z^2 + 2*y*z^3 - z^4 - 3*y^2*z*w + 4*y*z^2*w - 3*z^3*w + 2*y*z*w^2 - 3*z^2*w^2 - z*w^3, x^10*y*z^4*a + 3/4*x^10*z^5*a + 3*x^10*y*z^3*a*w + 3*x^10*z^4*a*w + 3*x^10*y*z^2*a*w^2 + 9/2*x^10*z^3*a*w^2 + x^10*y*z*a*w^3 + 3*x^10*z^2*a*w^3 + 3/4*x^10*z*a*w^4 + 1/4*y^11*z^3*a - 1/2*y^10*z^4*a + 3/4*y^9*z^5*a - 1/2*y^10*z^3*a*w + 3/2*y^9*z^4*a*w + 3/4*y^9*z^3*a*w^2 - 1/4*y^10*z^3 + 1/2*y^9*z^4 - 3/4*y^8*z^5 + 1/2*y^9*z^3*w - 3/2*y^8*z^4*w - 3/4*y^8*z^3*w^2 - 1/4*x^10*a - 1/4*x^9*y*a - 1/4*x^9*z*a - 1/4*x^9*a*w + 1/2*y^7*z^2*a - y^6*z^3*a + 3/2*y^5*z^4*a - y^6*z^2*a*w + 3*y^5*z^3*a*w + 3/2*y^5*z^2*a*w^2 - 1/2*y^6*z^2 + y^5*z^3 - 3/2*y^4*z^4 + y^5*z^2*w - 3*y^4*z^3*w - 3/2*y^4*z^2*w^2 + 1/4*y^3*z*a - 1/2*y^2*z^2*a + 3/4*y*z^3*a - 1/2*y^2*z*a*w + 3/2*y*z^2*a*w + 3/4*y*z*a*w^2 - 1/4*y^2*z + 1/2*y*z^2 - 3/4*z^3 + 1/2*y*z*w - 3/2*z^2*w - 3/4*z*w^2, x^12*a + y*a - 1, x^11*y*a + x^11*z*a + x^11*a*w - y^5*z*a + y^4*z - y*a + 1, x^10*y^2*a + 2*x^10*y*z*a + x^10*z^2*a + 2*x^10*y*a*w + 2*x^10*z*a*w + x^10*a*w^2 + y^9*z^2*a - y^8*z^2 + 2*y^5*z*a - 2*y^4*z + y*a - 1, x*y^4*z + x + y + z + w]\n"
     ]
    }
   ],
   "source": [
    "R.<x, y, z, a,w> = PolynomialRing(QQ, order='degrevlex')\n",
    "polynomials = [a*x^12 + a*y - 1, x+y+z+x*y^4*z+w]\n",
    "I = ideal(*polynomials)\n",
    "groebner_basis_result = I.groebner_basis()\n",
    "print(groebner_basis_result)"
   ]
  },
  {
   "cell_type": "code",
   "execution_count": null,
   "id": "08210b42",
   "metadata": {},
   "outputs": [],
   "source": []
  }
 ],
 "metadata": {
  "kernelspec": {
   "display_name": "SageMath 9.5",
   "language": "sage",
   "name": "sagemath"
  },
  "language_info": {
   "codemirror_mode": {
    "name": "ipython",
    "version": 3
   },
   "file_extension": ".py",
   "mimetype": "text/x-python",
   "name": "python",
   "nbconvert_exporter": "python",
   "pygments_lexer": "ipython3",
   "version": "3.10.12"
  }
 },
 "nbformat": 4,
 "nbformat_minor": 5
}
