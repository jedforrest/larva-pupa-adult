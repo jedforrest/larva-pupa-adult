{
 "cells": [
  {
   "cell_type": "code",
   "execution_count": 13,
   "id": "9459422d",
   "metadata": {},
   "outputs": [],
   "source": [
    "def expand_exp_at(basepoint, v, k=2):\n",
    "    '''\n",
    "    Note that the taylor expansion becomes\n",
    "    \n",
    "    exp(base_point)*(1 + x + x^2/2 + ...)\n",
    "    '''\n",
    "    #exp_basepoint = exp(basepoint)\n",
    "    #return exp_basepoint*sum(1 if j == 0 else v**j/j for j in range(k+1))\n",
    "    return exp(v).taylor(v, basepoint, k)\n"
   ]
  },
  {
   "cell_type": "code",
   "execution_count": 14,
   "id": "ef950811",
   "metadata": {},
   "outputs": [
    {
     "name": "stdout",
     "output_type": "stream",
     "text": [
      "1/2*h^2 + h + 1\n"
     ]
    }
   ],
   "source": [
    "h = var('h')\n",
    "print(expand_exp_at(0, h, ))"
   ]
  }
 ],
 "metadata": {
  "kernelspec": {
   "display_name": "SageMath 9.5",
   "language": "sage",
   "name": "sagemath"
  },
  "language_info": {
   "codemirror_mode": {
    "name": "ipython",
    "version": 3
   },
   "file_extension": ".py",
   "mimetype": "text/x-python",
   "name": "python",
   "nbconvert_exporter": "python",
   "pygments_lexer": "ipython3",
   "version": "3.10.12"
  }
 },
 "nbformat": 4,
 "nbformat_minor": 5
}
