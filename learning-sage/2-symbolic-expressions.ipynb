{
 "cells": [
  {
   "cell_type": "code",
   "execution_count": null,
   "id": "588caa9f",
   "metadata": {},
   "outputs": [],
   "source": [
    "print('type(e)  =', type(e))\n",
    "print('type(pi) =', type(pi))\n",
    "print('type(x)  =', type(x))"
   ]
  },
  {
   "cell_type": "code",
   "execution_count": null,
   "id": "1c09d32b",
   "metadata": {},
   "outputs": [],
   "source": [
    "print(e^(2*pi*I/8))"
   ]
  },
  {
   "cell_type": "code",
   "execution_count": null,
   "id": "eaa3f896",
   "metadata": {},
   "outputs": [],
   "source": [
    "float(pi)"
   ]
  }
 ],
 "metadata": {
  "kernelspec": {
   "display_name": "SageMath 9.5",
   "language": "sage",
   "name": "sagemath"
  },
  "language_info": {
   "codemirror_mode": {
    "name": "ipython",
    "version": 3
   },
   "file_extension": ".py",
   "mimetype": "text/x-python",
   "name": "python",
   "nbconvert_exporter": "python",
   "pygments_lexer": "ipython3",
   "version": "3.10.12"
  }
 },
 "nbformat": 4,
 "nbformat_minor": 5
}
