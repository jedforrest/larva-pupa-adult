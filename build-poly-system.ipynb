{
 "cells": [
  {
   "cell_type": "code",
   "execution_count": 4,
   "id": "77210813",
   "metadata": {},
   "outputs": [
    {
     "name": "stdout",
     "output_type": "stream",
     "text": [
      "0 250.0 5.0 100.0\n",
      "1 10.0 199.0 102.0\n",
      "2 184.0 8.0 224.0\n",
      "3 12.0 146.0 225.0\n"
     ]
    }
   ],
   "source": [
    "# load data\n",
    "lpa_data = []\n",
    "num_lines = 4\n",
    "for line in open('lpa-data.txt'):\n",
    "    i, L, P, A = line.split()\n",
    "    i = int(i)\n",
    "    L = float(L)\n",
    "    P = float(P)\n",
    "    A = float(A)\n",
    "    print(i, L, P, A)\n",
    "    lpa_data.append((i, L, P, A))\n",
    "    if len(lpa_data) == num_lines:\n",
    "        break"
   ]
  },
  {
   "cell_type": "code",
   "execution_count": null,
   "id": "1983e421",
   "metadata": {},
   "outputs": [],
   "source": []
  }
 ],
 "metadata": {
  "kernelspec": {
   "display_name": "Python 3 (ipykernel)",
   "language": "python",
   "name": "python3"
  },
  "language_info": {
   "codemirror_mode": {
    "name": "ipython",
    "version": 3
   },
   "file_extension": ".py",
   "mimetype": "text/x-python",
   "name": "python",
   "nbconvert_exporter": "python",
   "pygments_lexer": "ipython3",
   "version": "3.10.12"
  }
 },
 "nbformat": 4,
 "nbformat_minor": 5
}
