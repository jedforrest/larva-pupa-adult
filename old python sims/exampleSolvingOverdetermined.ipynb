{
 "cells": [
  {
   "cell_type": "code",
   "execution_count": 1,
   "id": "224c5b43",
   "metadata": {},
   "outputs": [
    {
     "name": "stderr",
     "output_type": "stream",
     "text": [
      "\u001b[32m\u001b[1m    Updating\u001b[22m\u001b[39m registry at `~/.julia/registries/General.toml`\n",
      "\u001b[32m\u001b[1m   Resolving\u001b[22m\u001b[39m package versions...\n",
      "\u001b[32m\u001b[1m  No Changes\u001b[22m\u001b[39m to `~/.julia/environments/v1.8/Project.toml`\n",
      "\u001b[32m\u001b[1m  No Changes\u001b[22m\u001b[39m to `~/.julia/environments/v1.8/Manifest.toml`\n",
      "\u001b[32m\u001b[1m   Resolving\u001b[22m\u001b[39m package versions...\n",
      "\u001b[32m\u001b[1m  No Changes\u001b[22m\u001b[39m to `~/.julia/environments/v1.8/Project.toml`\n",
      "\u001b[32m\u001b[1m  No Changes\u001b[22m\u001b[39m to `~/.julia/environments/v1.8/Manifest.toml`\n",
      "\u001b[32m\u001b[1m   Resolving\u001b[22m\u001b[39m package versions...\n",
      "\u001b[32m\u001b[1m  No Changes\u001b[22m\u001b[39m to `~/.julia/environments/v1.8/Project.toml`\n",
      "\u001b[32m\u001b[1m  No Changes\u001b[22m\u001b[39m to `~/.julia/environments/v1.8/Manifest.toml`\n",
      "\u001b[32m\u001b[1m   Resolving\u001b[22m\u001b[39m package versions...\n",
      "\u001b[32m\u001b[1m  No Changes\u001b[22m\u001b[39m to `~/.julia/environments/v1.8/Project.toml`\n",
      "\u001b[32m\u001b[1m  No Changes\u001b[22m\u001b[39m to `~/.julia/environments/v1.8/Manifest.toml`\n",
      "\u001b[32m\u001b[1m   Resolving\u001b[22m\u001b[39m package versions...\n",
      "\u001b[32m\u001b[1m  No Changes\u001b[22m\u001b[39m to `~/.julia/environments/v1.8/Project.toml`\n",
      "\u001b[32m\u001b[1m  No Changes\u001b[22m\u001b[39m to `~/.julia/environments/v1.8/Manifest.toml`\n",
      "\u001b[32m\u001b[1m    Updating\u001b[22m\u001b[39m git-repo `https://github.com/wildart/SmithNormalForm.jl.git`\n",
      "\u001b[32m\u001b[1m   Resolving\u001b[22m\u001b[39m package versions...\n",
      "\u001b[32m\u001b[1m  No Changes\u001b[22m\u001b[39m to `~/.julia/environments/v1.8/Project.toml`\n",
      "\u001b[32m\u001b[1m  No Changes\u001b[22m\u001b[39m to `~/.julia/environments/v1.8/Manifest.toml`\n"
     ]
    }
   ],
   "source": [
    "import Pkg;\n",
    "Pkg.add(\"TaylorSeries\")\n",
    "Pkg.add(\"DynamicPolynomials\")\n",
    "Pkg.add(\"GenericSVD\")\n",
    "Pkg.add(\"GenericSchur\")\n",
    "Pkg.add(\"Polymake\")\n",
    "Pkg.add(url = \"https://github.com/wildart/SmithNormalForm.jl.git\")"
   ]
  },
  {
   "cell_type": "code",
   "execution_count": 3,
   "id": "6fcc511f",
   "metadata": {
    "scrolled": true
   },
   "outputs": [
    {
     "name": "stderr",
     "output_type": "stream",
     "text": [
      "WARNING: replacing module EigenvalueSolver.\n"
     ]
    },
    {
     "data": {
      "text/plain": [
       "getCodegree (generic function with 1 method)"
      ]
     },
     "execution_count": 3,
     "metadata": {},
     "output_type": "execute_result"
    }
   ],
   "source": [
    "# If you get an error, run this line again\n",
    "using DynamicPolynomials\n",
    "using GenericSVD\n",
    "include(\"EigenvalueSolver.jl\")\n",
    "include(\"PolytopeUtils.jl\")"
   ]
  },
  {
   "cell_type": "code",
   "execution_count": 4,
   "id": "9ec6e82b",
   "metadata": {},
   "outputs": [
    {
     "data": {
      "text/plain": [
       "smallestn (generic function with 1 method)"
      ]
     },
     "execution_count": 4,
     "metadata": {},
     "output_type": "execute_result"
    }
   ],
   "source": [
    "using Base.Sort\n",
    "function smallestn(a, n)\n",
    "  sort(a; alg=Sort.PartialQuickSort(n))[1:min(n,size(a,1))]\n",
    "end"
   ]
  },
  {
   "cell_type": "code",
   "execution_count": 5,
   "id": "143e2076",
   "metadata": {},
   "outputs": [],
   "source": [
    "import TaylorSeries\n",
    "using TaylorSeries"
   ]
  },
  {
   "cell_type": "code",
   "execution_count": 6,
   "id": "fa354451",
   "metadata": {},
   "outputs": [
    {
     "data": {
      "text/plain": [
       "(Variable{DynamicPolynomials.Commutative{DynamicPolynomials.CreationOrder}, LexOrder}[d₁, d₂],)"
      ]
     },
     "execution_count": 6,
     "metadata": {},
     "output_type": "execute_result"
    }
   ],
   "source": [
    "# This defines the variables, c[1] = c_EL, c[2] = c_EA, c[3] = b. This code only solves that part\n",
    "\n",
    "@polyvar c[1:3] monomial_order = LexOrder\n",
    "@polyvar d[1:2] monomial_order = LexOrder"
   ]
  },
  {
   "cell_type": "code",
   "execution_count": 7,
   "id": "31a9787f",
   "metadata": {},
   "outputs": [],
   "source": [
    "# To generate the following lines use the comand gensys('max_number_prolongation','order_approximation',offmul='howfar') in \n",
    "# dynamic_taylor.py . To set the initial conditions, modify lpa_params.py\n",
    "# Example: gensys(20,2,offmul=[1.1,1.1,1.1])\n",
    "# The argument offmul tells you which value we should take for the approximation, 1.1 in this case, means that we expand talylor considering c_EL and c_EA as 1.1*actual_c_EL and 1.1*actual_c_EA.\n",
    "# We should expect that this number decrease \n"
   ]
  },
  {
   "cell_type": "code",
   "execution_count": 8,
   "id": "b8508fe3",
   "metadata": {},
   "outputs": [],
   "source": [
    "# This lines can be replaced, see previous line\n",
    "howoffsum = [0, 0, 0];\n",
    "howoffmul = [1.1, 1.1, 1.1];\n",
    "solL = [0.01209 ; 0.01155 ; 6.598];\n",
    "fL = [5049.84777072584*c[3]*c[2]^2 + 25249.2388536292*c[3]*c[2]*c[1] - 565.103214783075*c[3]*c[2] + 31561.5485670365*c[3]*c[1]^2 - 1412.75803695769*c[3]*c[1] + 16.3144535896476*c[3] - 10.1192217506699; 127684.362289232*c[3]*c[2]^2 + 25245.0122250433*c[3]*c[2]*c[1] - 6074.95134091958*c[3]*c[2] + 1247.82438275202*c[3]*c[1]^2 - 600.55208844079*c[3]*c[1] + 84.4442731372719*c[3] - 183.214836377097; 28553.5080273899*c[3]*c[2]^2 + 46635.9441885107*c[3]*c[2]*c[1] - 1600.29846085621*c[3]*c[2] + 19042.4175574819*c[3]*c[1]^2 - 1306.86971341419*c[3]*c[1] + 22.9897058074041*c[3] - 12.1054055320091; 278120.730882848*c[3]*c[2]^2 + 29868.250507441*c[3]*c[2]*c[1] - 9931.61383174297*c[3]*c[2] + 801.911085109859*c[3]*c[1]^2 - 533.293453041113*c[3]*c[1] + 94.136061067135*c[3] - 95.0712969973791; 89358.1197355506*c[3]*c[2]^2 + 61970.7577284352*c[3]*c[2]*c[1] - 3746.57349667931*c[3]*c[2] + 10744.3364542633*c[3]*c[1]^2 - 1299.14326287082*c[3]*c[1] + 40.459952916909*c[3] - 24.1529379946924; 229247.627179963*c[3]*c[2]^2 + 40308.1514851527*c[3]*c[2]*c[1] - 8030.1118805046*c[3]*c[2] + 1771.82540135362*c[3]*c[1]^2 - 705.959250492068*c[3]*c[1] + 73.3571705287771*c[3] - 56.6779706988277; 142920.781045208*c[3]*c[2]^2 + 55217.0763551862*c[3]*c[2]*c[1] - 5340.17359813057*c[3]*c[2] + 5333.24387628775*c[3]*c[1]^2 - 1031.58117091683*c[3]*c[1] + 51.5435325741659*c[3] - 32.9260104444352; 194730.649391639*c[3]*c[2]^2 + 43322.5724301328*c[3]*c[2]*c[1] - 6840.00798207149*c[3]*c[2] + 2409.54016204894*c[3]*c[1]^2 - 760.863125942776*c[3]*c[1] + 62.2872174080943*c[3] - 42.9597934026661; 166309.368577746*c[3]*c[2]^2 + 46858.7345963057*c[3]*c[2]*c[1] - 5939.85327999177*c[3]*c[2] + 3300.68748793992*c[3]*c[1]^2 - 836.795938702682*c[3]*c[1] + 54.8249478134897*c[3] - 35.3542217986987; 181913.347153786*c[3]*c[2]^2 + 41646.5673838338*c[3]*c[2]*c[1] - 6354.25588445776*c[3]*c[2] + 2383.60269050235*c[3]*c[1]^2 - 727.359894165646*c[3]*c[1] + 57.3957401398365*c[3] - 37.5216800683018; 173703.068410343*c[3]*c[2]^2 + 41448.4433776885*c[3]*c[2]*c[1] - 6069.67100135196*c[3]*c[2] + 2472.57212286982*c[3]*c[1]^2 - 724.162264728752*c[3]*c[1] + 54.7790621535111*c[3] - 34.8723333291819; 177621.418458186*c[3]*c[2]^2 + 38895.247043286*c[3]*c[2]*c[1] - 6145.98931895399*c[3]*c[2] + 2129.30435936472*c[3]*c[1]^2 - 672.919333043124*c[3]*c[1] + 54.9162590039892*c[3] - 34.8169828533788; 175245.440415403*c[3]*c[2]^2 + 37810.4408564866*c[3]*c[2]*c[1] - 6041.80464416925*c[3]*c[2] + 2039.46738125264*c[3]*c[1]^2 - 651.781001044316*c[3]*c[1] + 53.757103758998*c[3] - 33.6162116253743; 175851.377886348*c[3]*c[2]^2 + 36226.7377322212*c[3]*c[2]*c[1] - 6027.8196580421*c[3]*c[2] + 1865.74672102842*c[3]*c[1]^2 - 620.88862900508*c[3]*c[1] + 53.306312374072*c[3] - 33.079042161508; 174932.664469505*c[3]*c[2]^2 + 35087.8139075678*c[3]*c[2]*c[1] - 5972.39825946958*c[3]*c[2] + 1759.46940576488*c[3]*c[1]^2 - 598.968749906285*c[3]*c[1] + 52.5840637245241*c[3] - 32.3247815514778; 174674.072901869*c[3]*c[2]^2 + 33913.071001032*c[3]*c[2]*c[1] - 5938.6134735044*c[3]*c[2] + 1646.06052520335*c[3]*c[1]^2 - 576.492598554632*c[3]*c[1] + 52.0509632107392*c[3] - 31.7554988198119; 174069.803859559*c[3]*c[2]^2 + 32908.5704348434*c[3]*c[2]*c[1] - 5897.07572177363*c[3]*c[2] + 1555.37316647235*c[3]*c[1]^2 - 557.432499625742*c[3]*c[1] + 51.4871643615014*c[3] - 31.1762718541848; 173598.538764503*c[3]*c[2]^2 + 31960.8613745436*c[3]*c[2]*c[1] - 5861.35260480289*c[3]*c[2] + 1471.06171957547*c[3]*c[1]^2 - 539.560642049974*c[3]*c[1] + 50.9889375051401*c[3] - 30.667374039957; 173055.178160192*c[3]*c[2]^2 + 31106.3428502133*c[3]*c[2]*c[1] - 5825.32920077874*c[3]*c[2] + 1397.8266582398*c[3]*c[1]^2 - 523.545984758244*c[3]*c[1] + 50.5088800236398*c[3] - 30.1861121525765; 172540.020284895*c[3]*c[2]^2 + 30315.6979230692*c[3]*c[2]*c[1] - 5791.70327581164*c[3]*c[2] + 1331.63532009165*c[3]*c[1]^2 - 508.808120804792*c[3]*c[1] + 50.0643720139801*c[3] - 29.745314791];\n",
    "solA = [0.0047 ; 0.007629];\n",
    "fA = [60.9050781771255*d[1]^2 - 24.9917897792017*d[1] - 100*d[2] + 2.63787454017093; 1403132.00736117*d[1]^2 - 28636.8381454025*d[1] - 102.362111341413*d[2] + 59.6899992707952; 249.253600909645*d[1]^2 - 64.5828119774449*d[1] - 224.351683760664*d[2] + 6.95030527937553; 726604.354474322*d[1]^2 - 17496.3736084497*d[1] - 225.441006888361*d[2] + 90.8850790586451; 423.248075240734*d[1]^2 - 92.3903818622815*d[1] - 274.174228358928*d[2] + 9.05808687053138; 145815.255021622*d[1]^2 - 5368.63937256145*d[1] - 274.733696321825*d[2] + 56.3026835024596; 3199.45020808002*d[1]^2 - 366.540578059824*d[1] - 293.404155925507*d[2] + 16.5924886090713; 36173.2193090666*d[1]^2 - 1980.63552887168*d[1] - 295.998276928778*d[2] + 36.0065463356823; 7818.66436500704*d[1]^2 - 678.6087095066*d[1] - 304.94276794197*d[2] + 22.2363159185467; 16664.895498664*d[1]^2 - 1148.82459129006*d[1] - 308.85641854436*d[2] + 28.4671751849304; 9583.13074421566*d[1]^2 - 781.431762263262*d[1] - 314.493400892524*d[2] + 24.0691990087813; 11354.3919483158*d[1]^2 - 879.163598351432*d[1] - 318.500268373803*d[2] + 25.5525641035377; 9214.80662603484*d[1]^2 - 760.464362892555*d[1] - 322.7424677345*d[2] + 24.0775536422797; 9173.08344759111*d[1]^2 - 758.073791622237*d[1] - 326.358789319488*d[2] + 24.1731690775591; 8297.17591346897*d[1]^2 - 707.116074231789*d[1] - 329.835594697088*d[2] + 23.5463784033732; 7923.20732550352*d[1]^2 - 684.879974984805*d[1] - 332.986726509552*d[2] + 23.3168302000138; 7416.42414878159*d[1]^2 - 654.243095613248*d[1] - 335.941268671727*d[2] + 22.9403065691945; 7047.90627527746*d[1]^2 - 631.573554696916*d[1] - 338.673928376793*d[2] + 22.6691168610812; 6685.11867138737*d[1]^2 - 608.909404902956*d[1] - 341.226090366558*d[2] + 22.3827794429112; 6376.37971237906*d[1]^2 - 589.331714365052*d[1] - 343.604980914149*d[2] + 22.132912588810];"
   ]
  },
  {
   "cell_type": "code",
   "execution_count": 35,
   "id": "935f088f",
   "metadata": {
    "scrolled": true
   },
   "outputs": [
    {
     "data": {
      "text/plain": [
       "7"
      ]
     },
     "execution_count": 35,
     "metadata": {},
     "output_type": "execute_result"
    }
   ],
   "source": [
    "# the next line is only used to consider different number of prolongations\n",
    "howmanyprolong = min(7,size(fL,1))\n",
    "f = fL[1:howmanyprolong] \n",
    "size(f,1)"
   ]
  },
  {
   "cell_type": "code",
   "execution_count": 36,
   "id": "514977c7",
   "metadata": {},
   "outputs": [
    {
     "name": "stdout",
     "output_type": "stream",
     "text": [
      "2"
     ]
    }
   ],
   "source": [
    "# This is the degree of the variable c[3] in the homogenenization, don't touch\n",
    "degC3 = maximum(degree.(monomials(f[1])))-1\n",
    "splitDeg(nn) = [div(nn,degC3) mod(nn,degC3)]\n",
    "ltpoints(nn) = getLatticePoints(newtonPolytope(f[1]^splitDeg(nn)[1]*(c[1] + 200*c[2] - 10)^splitDeg(nn)[2],c))\n",
    "\n",
    "print(degC3)"
   ]
  },
  {
   "cell_type": "code",
   "execution_count": 37,
   "id": "d086ffb7",
   "metadata": {},
   "outputs": [
    {
     "data": {
      "text/plain": [
       " 1.0 + 2.0 t - 3.0 t² - 8.0 t³ + 2.0 t⁴ + 12.0 t⁵ + 2.0 t⁶ - 8.0 t⁷ - 3.0 t⁸ + 2.0 t⁹ + 1.0 t¹⁰ + 𝒪(t¹⁵)"
      ]
     },
     "execution_count": 37,
     "metadata": {},
     "output_type": "execute_result"
    }
   ],
   "source": [
    "# We use this expantion to get a bound on which value we can set to candReg, which determines the matrix we construct\n",
    "t = Taylor1(Float64, size(f,1)*degC3)\n",
    "(1-t^degC3)^size(f,1)/((1-t^degC3)*(1-t)^2)"
   ]
  },
  {
   "cell_type": "code",
   "execution_count": 38,
   "id": "532f56b8",
   "metadata": {},
   "outputs": [],
   "source": [
    "# candReg should be equal or bigger than the exponent of the first non-positive monomial in the previous series expansion\n",
    "# increase it to get bigger matrices [not necessarily better approximations]\n",
    "candReg = 2\n",
    "A₀ = ltpoints(1)\n",
    "D = ltpoints(candReg)\n",
    "E0 = ltpoints(candReg-1)\n",
    "Ei = ltpoints(candReg-degC3)\n",
    "E = pushfirst!([Ei for i = 1:size(f, 1)],E0);"
   ]
  },
  {
   "cell_type": "code",
   "execution_count": 39,
   "id": "0f0d5ab5",
   "metadata": {},
   "outputs": [
    {
     "data": {
      "text/plain": [
       "7×7 Matrix{Float64}:\n",
       "   -10.1192   -183.215        -12.1054  …    -56.678        -32.926\n",
       "    16.3145     84.4443        22.9897        73.3572        51.5435\n",
       "  -565.103   -6074.95       -1600.3        -8030.11       -5340.17\n",
       "  5049.85        1.27684e5  28553.5            2.29248e5      1.42921e5\n",
       " -1412.76     -600.552      -1306.87        -705.959      -1031.58\n",
       " 25249.2     25245.0        46635.9     …  40308.2        55217.1\n",
       " 31561.5      1247.82       19042.4         1771.83        5333.24"
      ]
     },
     "execution_count": 39,
     "metadata": {},
     "output_type": "execute_result"
    }
   ],
   "source": [
    "# this creates the matrix from which we want to compute the kernel\n",
    "Sylv = EigenvalueSolver.getRes(f, EigenvalueSolver.exptomon(D, c),  [EigenvalueSolver.exptomon(e, c) for e ∈ E[2:end]], c; complex = false)"
   ]
  },
  {
   "cell_type": "code",
   "execution_count": 40,
   "id": "2ff7b2cf",
   "metadata": {},
   "outputs": [],
   "source": [
    "# we use svd to compute the kernel\n",
    "svdobj = GenericSVD.svd(transpose(Sylv), full = true);"
   ]
  },
  {
   "cell_type": "code",
   "execution_count": 41,
   "id": "3968c11c",
   "metadata": {
    "scrolled": true
   },
   "outputs": [
    {
     "data": {
      "text/plain": [
       "7-element Vector{Float64}:\n",
       " 428088.4150346781\n",
       "  79108.63346927502\n",
       "  23621.75770409354\n",
       "   1445.7863865539264\n",
       "     36.4504313219735\n",
       "      4.459013130741778\n",
       "      0.0002995302356305526"
      ]
     },
     "execution_count": 41,
     "metadata": {},
     "output_type": "execute_result"
    }
   ],
   "source": [
    "# we look at the singular values, the smaller ones are the ones related to the kernel.\n",
    "# you should check that the smallest one is some orders of magnitude smaller than the previous one\n",
    "svdobj.S"
   ]
  },
  {
   "cell_type": "code",
   "execution_count": 42,
   "id": "359c4614",
   "metadata": {
    "scrolled": true
   },
   "outputs": [
    {
     "data": {
      "text/plain": [
       "6-element Vector{Float64}:\n",
       " -4.172798083102826\n",
       " -1.5984014593980576\n",
       " -1.2132080793626816\n",
       " -0.912463920492608\n",
       " -0.7333095925488542\n",
       " -0.5249116720304113"
      ]
     },
     "execution_count": 42,
     "metadata": {},
     "output_type": "execute_result"
    }
   ],
   "source": [
    "# here we see the log of the smaller sing values\n",
    "smallestn(log10.(svdobj.S[2:end]./svdobj.S[1:end-1]),10)"
   ]
  },
  {
   "cell_type": "code",
   "execution_count": 43,
   "id": "6c4c9636",
   "metadata": {},
   "outputs": [],
   "source": [
    "N = transpose(svdobj.V[:, end:end])\n",
    "ee = exponents.(EigenvalueSolver.exptomon(D, c));"
   ]
  },
  {
   "cell_type": "code",
   "execution_count": 44,
   "id": "ca26269f",
   "metadata": {
    "scrolled": true
   },
   "outputs": [
    {
     "data": {
      "text/plain": [
       "3-element Vector{Float64}:\n",
       " 0.012163297593710775\n",
       " 0.011591717459375369\n",
       " 6.615098773636565"
      ]
     },
     "execution_count": 44,
     "metadata": {},
     "output_type": "execute_result"
    }
   ],
   "source": [
    "# we compute the approximation by inverting the monomial map\n",
    "\n",
    "c1pos = findall(x->x==[1,0,1], ee)[1]\n",
    "c2pos = findall(x->x==[0,1,1], ee)[1]\n",
    "candApprox = [N[c1pos]/N[2],N[c2pos]/N[2],N[2]/N[1]]"
   ]
  },
  {
   "cell_type": "code",
   "execution_count": 45,
   "id": "f0a5693c",
   "metadata": {},
   "outputs": [
    {
     "data": {
      "text/plain": [
       "3-element Vector{Float64}:\n",
       " 1.0060626628379465\n",
       " 1.0036119012446207\n",
       " 1.002591508583899"
      ]
     },
     "execution_count": 45,
     "metadata": {},
     "output_type": "execute_result"
    }
   ],
   "source": [
    "# % of how off is our solutions, compare with variable howoffmul, it should decrease\n",
    "candApprox ./ solL"
   ]
  },
  {
   "cell_type": "code",
   "execution_count": 46,
   "id": "57bdf330",
   "metadata": {},
   "outputs": [
    {
     "data": {
      "text/plain": [
       "3-element Vector{Float64}:\n",
       " 7.329759371077493e-5\n",
       " 4.1717459375369484e-5\n",
       " 0.017098773636565312"
      ]
     },
     "execution_count": 46,
     "metadata": {},
     "output_type": "execute_result"
    }
   ],
   "source": [
    "# diff of sols\n",
    "candApprox - solL"
   ]
  },
  {
   "cell_type": "code",
   "execution_count": null,
   "id": "74810ff4",
   "metadata": {},
   "outputs": [],
   "source": []
  },
  {
   "cell_type": "code",
   "execution_count": null,
   "id": "a6af0d98",
   "metadata": {},
   "outputs": [],
   "source": [
    "\n"
   ]
  },
  {
   "cell_type": "code",
   "execution_count": null,
   "id": "e5501d3a",
   "metadata": {},
   "outputs": [],
   "source": []
  }
 ],
 "metadata": {
  "kernelspec": {
   "display_name": "Julia 1.8.5",
   "language": "julia",
   "name": "julia-1.8"
  },
  "language_info": {
   "file_extension": ".jl",
   "mimetype": "application/julia",
   "name": "julia",
   "version": "1.8.5"
  }
 },
 "nbformat": 4,
 "nbformat_minor": 5
}
